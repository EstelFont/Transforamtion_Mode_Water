{
 "cells": [
  {
   "cell_type": "code",
   "execution_count": 1,
   "id": "e3821860-bb39-4ba9-8c34-040ce9b23d77",
   "metadata": {
    "tags": []
   },
   "outputs": [],
   "source": [
    "import importlib, os, gc, sys\n",
    "import SXBQ as sx\n",
    "import WMT_functions as wmt\n",
    "import matplotlib.dates as mdates\n",
    "from tqdm.notebook import tqdm\n",
    "import numpy as np\n",
    "import pandas as pd\n",
    "import xarray as xr\n",
    "import matplotlib.pyplot as plt\n",
    "from scipy.interpolate import interp1d\n",
    "from scipy.optimize import fsolve, fmin\n",
    "from scipy.signal import convolve as conv\n",
    "import gsw\n",
    "import cmocean.cm as cmo\n",
    "from datetime import datetime as dt\n",
    "import matplotlib.dates as mdates\n",
    "import math\n",
    "\n",
    "import matplotlib.colors as cl\n",
    "from gsw import z_from_p, p_from_z, distance, SA_from_SP, CT_from_t, rho, distance, cp_t_exact\n",
    "\n",
    "\n",
    "from scipy.signal import find_peaks\n",
    "from scipy.stats import linregress\n",
    "\n",
    "\n",
    "from matplotlib.gridspec import GridSpec\n",
    "\n",
    "import glidertools as gt\n",
    "import matplotlib.colors as colors\n",
    "import matplotlib.cm as cm\n",
    "\n",
    "from matplotlib.colors import ListedColormap\n",
    "from matplotlib.gridspec import GridSpec\n",
    "\n",
    "import seaborn as sns\n",
    "sns.set(    rc={\n",
    "         'axes.axisbelow': False,\n",
    "         'axes.edgecolor': 'Black',\n",
    "         'axes.facecolor': 'white',\n",
    "         'axes.grid': False,\n",
    "         'axes.labelcolor': 'k',\n",
    "            \n",
    "         'axes.spines.right': True,\n",
    "         'axes.spines.top': True,\n",
    "         'figure.facecolor': 'white',\n",
    "         'lines.solid_capstyle': 'round',\n",
    "         'patch.edgecolor': 'k',\n",
    "         'patch.force_edgecolor': True,\n",
    "         'text.color': 'k',\n",
    "         'xtick.bottom': True,\n",
    "         'xtick.color': 'k',\n",
    "         'xtick.direction': 'out',\n",
    "         'xtick.top': False,\n",
    "         'ytick.color': 'k',\n",
    "         'ytick.direction': 'out',\n",
    "         'ytick.left': True,\n",
    "         'ytick.right': False},\n",
    "         font_scale=1.6)\n",
    "\n",
    "import warnings\n",
    "warnings.filterwarnings('ignore')\n",
    "\n",
    "def interp(x,y,xi):\n",
    "    _gg = np.isfinite(x+y)\n",
    "    return interp1d(x[_gg], y[_gg], bounds_error=False, fill_value=np.NaN)(xi)"
   ]
  },
  {
   "cell_type": "markdown",
   "id": "5638efb3-5b3a-4dda-b30f-a26fea278e07",
   "metadata": {},
   "source": [
    "# Load data"
   ]
  },
  {
   "cell_type": "code",
   "execution_count": 4,
   "id": "ee739983-5420-416f-850c-1ce53a2ef533",
   "metadata": {
    "tags": []
   },
   "outputs": [],
   "source": [
    "ds_79=xr.open_dataset('/home/jupyter-estelfont/datasets/glider_grid/sg79_gridded_pp_pressure.nc')\n",
    "\n",
    "\n",
    "group_trans=ds_79.groupby_bins('transect_num', bins=np.arange(0,ds_79.transect_num.max(),1))\n",
    "\n",
    "# for i in tqdm(range(len(list(group_trans.groups.keys())))):\n",
    "#     ds_=group_trans[list(group_trans.groups.keys())[i]]#.unstack('stacked_pressure')\n",
    "#     ds_['transect_number']=i+1\n",
    "#     ds_=ds_.expand_dims('transect_number')\n",
    "#     if i==1:\n",
    "#         ds2_=ds_.copy()\n",
    "#     if i>1:\n",
    "#         ds2_=xr.concat([ds2_, ds_], 'transect_number')\n",
    "        \n",
    "        \n",
    "def data_grid_roll(DS, climat_or_transect, month, var): # month, cons_temp, abs_salinity ,  potential_density , spice\n",
    "    if climat_or_transect=='month':\n",
    "        get_section1=DS.groupby('t.month')[month]\n",
    "        def roll(ds):\n",
    "            ds = pd.DataFrame(ds).interpolate(limit=5,axis=0).interpolate(limit=2,axis=1).rolling(5,axis=0, center=True).mean().rolling(10,axis=1, center=True).mean()\n",
    "            return ds.to_numpy()\n",
    "        dx, dy=1, 1\n",
    "        xaxis=np.arange(0,80+dx,dx)\n",
    "        yaxis=np.arange(0,500+dy,dy)\n",
    "\n",
    "    elif climat_or_transect=='transect':\n",
    "        get_section1=ds2_.sel(transect_number=month).where(ds2_.sel(transect_number=month).cons_temp.count('pressure')!=0, drop=True)\n",
    "        def roll(ds):\n",
    "            # ds = pd.DataFrame(ds).interpolate(limit=5,axis=0).interpolate(limit=2,axis=1).rolling(5,axis=0, center=True).mean().rolling(5,axis=1, center=True).mean()\n",
    "            ds = pd.DataFrame(ds).interpolate(limit=2,axis=1).rolling(3,axis=1, center=True).mean()\n",
    "            \n",
    "            return ds.to_numpy()\n",
    "        dx, dy=2, 0.5\n",
    "        xaxis=np.arange(0,80+dx,dx)\n",
    "        yaxis=np.arange(0,500+dy,dy)\n",
    "\n",
    "    XX1, YY1=np.meshgrid(get_section1.distance_bin_on_transect,  get_section1.pressure)\n",
    "    ct1, _ ,_=sx.grid2d(XX1.flatten(), YY1.flatten(), get_section1[var].values.flatten(), xi=xaxis, yi=yaxis, fn='mean')\n",
    "    \n",
    "    return roll(ct1)[:, int(10/dx):int(-7/dx)]\n",
    "\n",
    "\n",
    "ds2_=xr.open_dataset('/home/jupyter-estelfont/scratch/estel/datasets/3_MW_budget_data/data/sea079_by_transect.nc')\n",
    "\n",
    "\n",
    "\n",
    "# dataset='climat'\n",
    "dataset='glider'\n",
    "\n",
    "if dataset=='glider':\n",
    "    dx, dy=2, 0.5\n",
    "climat_or_transect='transect'\n",
    "\n",
    "S_var='spice'  \n",
    "T_var='potential_density'   \n",
    "\n",
    "## CHANGE RANGES AND dS dT if change to Sal Temp!!\n",
    "dS = 0.1   #0.2\n",
    "dT = 0.05  #0.03    # 0.1 \n",
    "S_range = (1, 9)  \n",
    "T_range =  (22, 28)"
   ]
  },
  {
   "cell_type": "markdown",
   "id": "e8373c5e-5083-4fb0-abe8-56b515cd50c5",
   "metadata": {
    "tags": []
   },
   "source": [
    "## WMT sigma-spice PER TRANSECT"
   ]
  },
  {
   "cell_type": "code",
   "execution_count": 5,
   "id": "acdfce3a-8697-4c1d-af9b-463858a63908",
   "metadata": {
    "tags": []
   },
   "outputs": [
    {
     "data": {
      "application/vnd.jupyter.widget-view+json": {
       "model_id": "12497903ff8147bab8b2c9a1a18824fc",
       "version_major": 2,
       "version_minor": 0
      },
      "text/plain": [
       "  0%|          | 0/19 [00:00<?, ?it/s]"
      ]
     },
     "metadata": {},
     "output_type": "display_data"
    },
    {
     "name": "stdout",
     "output_type": "stream",
     "text": [
      "2015-03-26 16:03:00.036720384\n",
      "2015-03-29 14:12:08.244002560\n",
      "2015-04-02 01:40:09.774830848\n",
      "2015-04-04 18:56:47.167101184\n",
      "2015-04-08 11:07:51.542471680\n",
      "2015-04-11 07:33:14.447755520\n",
      "2015-04-15 10:13:15.925331712\n",
      "2015-04-18 05:22:01.517041664\n",
      "2015-04-22 12:14:45.946967040\n",
      "2015-04-25 14:29:29.369618944\n",
      "2015-04-29 15:08:27.809085696\n",
      "2015-05-02 05:41:32.321417984\n",
      "2015-05-05 22:27:36.061637632\n",
      "2015-05-08 15:05:56.332782848\n",
      "2015-05-12 12:11:03.112801792\n",
      "2015-05-15 09:50:22.730059008\n",
      "2015-05-18 15:41:14.567891712\n",
      "2015-05-21 10:42:24.447760128\n",
      "2015-05-24 20:47:56.648388864\n"
     ]
    }
   ],
   "source": [
    "import importlib\n",
    "importlib.reload(wmt)\n",
    "\n",
    "DS=ds_79.copy()\n",
    "\n",
    "open_or_close='open'\n",
    "# dx, dy=2, 2\n",
    "def get_mean_time_transect(month_i):\n",
    "    tid_=pd.to_datetime(ds2_.sel(transect_number=month_i).where(ds2_.sel(transect_number=month_i).cons_temp.count('pressure')!=0, drop=True).time.mean('pressure').mean().item())\n",
    "    return tid_\n",
    "\n",
    "deltatimesss_=[]\n",
    "for ii in tqdm(range(5,24)):  ##          24         month_i is transect number actually...\n",
    "# for month_i in tqdm(range(19,26)):  ##month_i is transect number actually...\n",
    "# for month_i in tqdm(range(38,42)):  ##month_i is transect number actually...\n",
    "    month_i=ii\n",
    "    month_f=ii+1\n",
    "    # dt=(month_f-month_i)*30*24*60*60\n",
    "    print(get_mean_time_transect(month_i))\n",
    "    ti1, ti2=get_mean_time_transect(month_i), get_mean_time_transect(month_f)\n",
    "    # days_range=(ti2-ti1).values.astype('timedelta64[D]').astype(int)\n",
    "    days_range=((ti2-ti1).round('D')/ np.timedelta64(1, 'D'))# (ti2-ti1).astype('timedelta64[D]').astype(int)\n",
    "    \n",
    "    dt=int((days_range)*24*60*60)\n",
    "    deltatimesss_.append(dt)\n",
    "    t_arr=np.array([get_mean_time_transect(month_i),\n",
    "                    get_mean_time_transect(month_i)+(get_mean_time_transect(month_f)-get_mean_time_transect(month_i))/2,\n",
    "                    get_mean_time_transect(month_f)])\n",
    "\n",
    "    salinity_noflat=[data_grid_roll(DS, climat_or_transect, month_i, S_var), \n",
    "                     data_grid_roll(DS,climat_or_transect, month_i, S_var), \n",
    "                     data_grid_roll(DS,climat_or_transect, month_f, S_var)]\n",
    "    temperature_noflat=[data_grid_roll(DS,climat_or_transect, month_i, T_var), \n",
    "                        data_grid_roll(DS,climat_or_transect, month_i, T_var), \n",
    "                        data_grid_roll(DS,climat_or_transect, month_f, T_var)]\n",
    "\n",
    "    salinity=[data_grid_roll(DS,climat_or_transect, month_i, S_var).flatten(), data_grid_roll(DS,climat_or_transect,month_i, S_var).flatten(), data_grid_roll(DS,climat_or_transect, month_f, S_var).flatten()]\n",
    "    temperature=[data_grid_roll(DS,climat_or_transect, month_i, T_var).flatten(), data_grid_roll(DS,climat_or_transect, month_i, T_var).flatten(), data_grid_roll(DS,climat_or_transect, month_f, T_var).flatten()]\n",
    "    salinity_surf=[np.nanmean(data_grid_roll(DS,climat_or_transect, month_i, S_var)[:3, :] , axis=0), np.nanmean(data_grid_roll(DS,climat_or_transect, month_i, S_var)[:3, :] , axis=0), np.nanmean(data_grid_roll(DS,climat_or_transect, month_f, S_var)[:3, :] , axis=0)]\n",
    "    temperature_surf=[np.nanmean(data_grid_roll(DS,climat_or_transect, month_i, T_var)[:3, :] , axis=0), np.nanmean(data_grid_roll(DS,climat_or_transect, month_i, T_var)[:3, :] , axis=0), np.nanmean(data_grid_roll(DS,climat_or_transect, month_f, T_var)[:3, :] , axis=0)]\n",
    "\n",
    "   \n",
    "\n",
    "    ## compute transformation      \n",
    "    ts_trans = wmt.mk_ts_trans_ds(dS, dT, S_range, T_range, t_arr)\n",
    "    #cal area\n",
    "    ts_trans = wmt.calc_ts_area(salinity, temperature,salinity_noflat,temperature_noflat,   ts_trans, dx, dy,open_or_close).fillna(0)\n",
    "    # calc transformation\n",
    "    ts_trans = wmt.ts_trans_cdiff(ts_trans,  dt)\n",
    "\n",
    "    # print('done')\n",
    "\n",
    "    ts_trans['dvol_G']=ts_trans.dvol_G.where(ts_trans.dvol_G!=0)\n",
    "    ts_trans['G_s']=ts_trans.G_s.where(ts_trans.G_s!=0)\n",
    "    ts_trans['G_t']=ts_trans.G_t.where(ts_trans.G_t!=0)\n",
    "\n",
    "    ts_trans['epsilon']=ts_trans.epsilon.where(ts_trans.epsilon!=0)\n",
    "    "
   ]
  },
  {
   "cell_type": "markdown",
   "id": "e9a82ced-89b9-4a09-8e90-7adf75b42a1e",
   "metadata": {
    "jp-MarkdownHeadingCollapsed": true
   },
   "source": [
    "## other variables"
   ]
  },
  {
   "cell_type": "code",
   "execution_count": 35,
   "id": "c1a4e93d-d2db-40a6-aa2d-9f1203af7a14",
   "metadata": {},
   "outputs": [
    {
     "data": {
      "application/vnd.jupyter.widget-view+json": {
       "model_id": "2d7a6b8e0ba040978ccb5fe5b29b0b8a",
       "version_major": 2,
       "version_minor": 0
      },
      "text/plain": [
       "0it [00:00, ?it/s]"
      ]
     },
     "metadata": {},
     "output_type": "display_data"
    }
   ],
   "source": [
    "for ind_, ii in tqdm(enumerate(range(5,24))):  ##          24         month_i is transect number actually...    \n",
    "    bin2_3D=data_grid_roll(DS,climat_or_transect, month_i, S_var).flatten()\n",
    "    bin1_3D=data_grid_roll(DS,climat_or_transect, month_i, T_var).flatten()\n",
    "    bin_edge1 = ts_trans.T_bin\n",
    "    bin_edge2 = ts_trans.S_bin\n",
    "    month_i=ii\n",
    "    var_3D = data_grid_roll(DS,climat_or_transect, month_i, 'aou').flatten()\n",
    "        \n",
    "    out = sx.grid2d(bin1_3D, bin2_3D, var_3D, \n",
    "                        xi=bin_edge1[:-1], yi=bin_edge2[:-1],\n",
    "                        fn='mean')\n",
    "    ts_trans_all['ts_aou'][:, :, 2*ind_] = out[0].T\n",
    "\n",
    "ts_trans_all['ts_aou']=ts_trans_all['ts_aou'].where(ts_trans_all['ts_aou']!=0, np.nan)"
   ]
  },
  {
   "cell_type": "code",
   "execution_count": 36,
   "id": "db9faedf-9e56-466b-834f-22527ed938eb",
   "metadata": {},
   "outputs": [
    {
     "data": {
      "application/vnd.jupyter.widget-view+json": {
       "model_id": "c0d7a75e1fce4b1ea5c055570d3e1c45",
       "version_major": 2,
       "version_minor": 0
      },
      "text/plain": [
       "0it [00:00, ?it/s]"
      ]
     },
     "metadata": {},
     "output_type": "display_data"
    }
   ],
   "source": [
    "for ind_, ii in tqdm(enumerate(range(5,24))):  ##          24         month_i is transect number actually...    \n",
    "    bin2_3D=data_grid_roll(DS,climat_or_transect, month_i, S_var).flatten()\n",
    "    bin1_3D=data_grid_roll(DS,climat_or_transect, month_i, T_var).flatten()\n",
    "    bin_edge1 = ts_trans.T_bin\n",
    "    bin_edge2 = ts_trans.S_bin\n",
    "    month_i=ii\n",
    "    var_3D = data_grid_roll(DS,climat_or_transect, month_i, 'oxygen_concentration').flatten()\n",
    "        \n",
    "    out = sx.grid2d(bin1_3D, bin2_3D, var_3D, \n",
    "                        xi=bin_edge1[:-1], yi=bin_edge2[:-1],\n",
    "                        fn='mean')\n",
    "    ts_trans_all['ts_oxygen_concentration'][:, :, 2*ind_] = out[0].T\n",
    "\n",
    "ts_trans_all['ts_oxygen_concentration']=ts_trans_all['ts_oxygen_concentration'].where(ts_trans_all['ts_oxygen_concentration']!=0, np.nan)"
   ]
  },
  {
   "cell_type": "code",
   "execution_count": 37,
   "id": "f16350ff-1c13-460a-97d0-e39bce30afe0",
   "metadata": {},
   "outputs": [
    {
     "data": {
      "application/vnd.jupyter.widget-view+json": {
       "model_id": "c43ecee858714acaa733f3d3d01d3022",
       "version_major": 2,
       "version_minor": 0
      },
      "text/plain": [
       "0it [00:00, ?it/s]"
      ]
     },
     "metadata": {},
     "output_type": "display_data"
    }
   ],
   "source": [
    "for ind_, ii in tqdm(enumerate(range(5,24))):  ##          24         month_i is transect number actually...    \n",
    "    bin2_3D=data_grid_roll(DS,climat_or_transect, month_i, S_var).flatten()\n",
    "    bin1_3D=data_grid_roll(DS,climat_or_transect, month_i, T_var).flatten()\n",
    "    bin_edge1 = ts_trans.T_bin\n",
    "    bin_edge2 = ts_trans.S_bin\n",
    "    month_i=ii\n",
    "    var_3D = data_grid_roll(DS,climat_or_transect, month_i, 'potential_density').flatten()\n",
    "        \n",
    "    out = sx.grid2d(bin1_3D, bin2_3D, var_3D, \n",
    "                        xi=bin_edge1[:-1], yi=bin_edge2[:-1],\n",
    "                        fn='mean')\n",
    "    ts_trans_all['ts_T'][:, :, 2*ind_] = out[0].T\n",
    "\n",
    "ts_trans_all['ts_T']=ts_trans_all['ts_T'].where(ts_trans_all['ts_T']!=0, np.nan)\n"
   ]
  },
  {
   "cell_type": "code",
   "execution_count": 38,
   "id": "3f210ce7-2eee-4e1c-8c0c-6bc6daa91593",
   "metadata": {},
   "outputs": [
    {
     "data": {
      "application/vnd.jupyter.widget-view+json": {
       "model_id": "89db3c178e10477cb03f7af0486c18a9",
       "version_major": 2,
       "version_minor": 0
      },
      "text/plain": [
       "0it [00:00, ?it/s]"
      ]
     },
     "metadata": {},
     "output_type": "display_data"
    }
   ],
   "source": [
    "for ind_, ii in tqdm(enumerate(range(5,24))):  ##          24         month_i is transect number actually...    \n",
    "    bin2_3D=data_grid_roll(DS,climat_or_transect, month_i, S_var).flatten()\n",
    "    bin1_3D=data_grid_roll(DS,climat_or_transect, month_i, T_var).flatten()\n",
    "    bin_edge1 = ts_trans.T_bin\n",
    "    bin_edge2 = ts_trans.S_bin\n",
    "    month_i=ii\n",
    "    var_3D = data_grid_roll(DS,climat_or_transect, month_i, 'spice').flatten()\n",
    "        \n",
    "    out = sx.grid2d(bin1_3D, bin2_3D, var_3D, \n",
    "                        xi=bin_edge1[:-1], yi=bin_edge2[:-1],\n",
    "                        fn='mean')\n",
    "    ts_trans_all['ts_S'][:, :, 2*ind_] = out[0].T\n",
    "\n",
    "ts_trans_all['ts_S']=ts_trans_all['ts_S'].where(ts_trans_all['ts_T']!=0, np.nan)\n"
   ]
  },
  {
   "cell_type": "markdown",
   "id": "1b8b0259-3667-47c2-8215-68fb36bceeda",
   "metadata": {},
   "source": [
    "## save"
   ]
  },
  {
   "cell_type": "code",
   "execution_count": 107,
   "id": "8c642745-b717-4404-a690-d4b9b529e505",
   "metadata": {
    "tags": []
   },
   "outputs": [],
   "source": [
    "ts_trans_all_glider_79=ts_trans_all.copy()\n",
    "deltatimesss_79=deltatimesss_\n",
    "ts_trans_all_glider_79['delta_time']=(ts_trans_all_glider_79.time_mid.copy().astype(float)*np.nan)\n",
    "ts_trans_all_glider_79['delta_time']=('time_mid', deltatimesss_)\n",
    "\n",
    "ts_trans_all_glider_79.to_netcdf('sensitivity_tests/WMT_sg079_0.1_0.05.nc')"
   ]
  },
  {
   "cell_type": "code",
   "execution_count": null,
   "id": "e1b80306-a57d-48ad-b6a5-78f5ba463e65",
   "metadata": {},
   "outputs": [],
   "source": []
  },
  {
   "cell_type": "code",
   "execution_count": null,
   "id": "edb3af7f-7416-4bd7-bd9f-bedf6ab6e148",
   "metadata": {},
   "outputs": [],
   "source": []
  },
  {
   "cell_type": "code",
   "execution_count": null,
   "id": "3ec59666-3aeb-4a8b-ad36-6d67a278eb28",
   "metadata": {},
   "outputs": [],
   "source": []
  },
  {
   "cell_type": "code",
   "execution_count": null,
   "id": "aa98fc02-453d-4368-822d-cefd369e8bb1",
   "metadata": {},
   "outputs": [],
   "source": []
  },
  {
   "cell_type": "markdown",
   "id": "fe00eab8-6e67-48a7-be54-59c19f262c8c",
   "metadata": {},
   "source": [
    "# WMT in TS space"
   ]
  },
  {
   "cell_type": "code",
   "execution_count": null,
   "id": "80fad6b8-79f0-4270-a427-48f9e31da71a",
   "metadata": {},
   "outputs": [],
   "source": [
    "# dataset='climat'\n",
    "dataset='glider'\n",
    "\n",
    "if dataset=='glider':\n",
    "    dx, dy=2, 0.5\n",
    "climat_or_transect='transect'\n",
    "## ON WHAT VARIABLE:\n",
    "\n",
    "S_var='abs_salinity'  # or 'spice'\n",
    "T_var='cons_temp'   # or 'potential_density'\n",
    "dS = 0.03   #0.2\n",
    "dT = 0.3    # 0.1 \n",
    "S_range = (35, 38)  # (1, 9)\n",
    "T_range = (10, 32)  # (22, 28)\n"
   ]
  },
  {
   "cell_type": "code",
   "execution_count": 6,
   "id": "e7640770-a876-4d36-86be-a622ed567f2b",
   "metadata": {},
   "outputs": [
    {
     "data": {
      "application/vnd.jupyter.widget-view+json": {
       "model_id": "81e37113085c4a28ba448c8c15ca000c",
       "version_major": 2,
       "version_minor": 0
      },
      "text/plain": [
       "  0%|          | 0/19 [00:00<?, ?it/s]"
      ]
     },
     "metadata": {},
     "output_type": "display_data"
    }
   ],
   "source": [
    "DS=ds_79.copy()\n",
    "\n",
    "open_or_close='open'\n",
    "# dx, dy=2, 2\n",
    "def get_mean_time_transect(month_i):\n",
    "    tid_=pd.to_datetime(ds2_.sel(transect_number=month_i).where(ds2_.sel(transect_number=month_i).cons_temp.count('pressure')!=0, drop=True).time.mean('pressure').mean().item())\n",
    "    return tid_\n",
    "# ti1, ti2=get_mean_time_transect(month_i), get_mean_time_transect(month_f)\n",
    "# days_range=((ti2-ti1).round('D')/ np.timedelta64(1, 'D'))# (ti2-ti1).astype('timedelta64[D]').astype(int)\n",
    "# dt=(days_range)*24*60*60\n",
    "\n",
    "# month_i,month_f=3,5\n",
    "# xaxis=np.arange(0,80+dx,dx)[int(20/dx):int(-10/dx)]\n",
    "# yaxis=np.arange(0,500+dy,dy)\n",
    "deltatimesss_=[]\n",
    "for ii in tqdm(range(5,24)):  ##          24         month_i is transect number actually...\n",
    "# for month_i in tqdm(range(19,26)):  ##month_i is transect number actually...\n",
    "# for month_i in tqdm(range(38,42)):  ##month_i is transect number actually...\n",
    "    month_i=ii\n",
    "    month_f=ii+1\n",
    "    # dt=(month_f-month_i)*30*24*60*60\n",
    "\n",
    "    ti1, ti2=get_mean_time_transect(month_i), get_mean_time_transect(month_f)\n",
    "    # days_range=(ti2-ti1).values.astype('timedelta64[D]').astype(int)\n",
    "    days_range=((ti2-ti1).round('D')/ np.timedelta64(1, 'D'))# (ti2-ti1).astype('timedelta64[D]').astype(int)\n",
    "    \n",
    "    dt=(days_range)*24*60*60\n",
    "    deltatimesss_.append(dt)\n",
    "    t_arr=np.array([get_mean_time_transect(month_i),\n",
    "                    get_mean_time_transect(month_i)+(get_mean_time_transect(month_f)-get_mean_time_transect(month_i))/2,\n",
    "                    get_mean_time_transect(month_f)])\n",
    "\n",
    "    salinity_noflat=[data_grid_roll(DS, climat_or_transect, month_i, S_var), \n",
    "                     data_grid_roll(DS,climat_or_transect, month_i, S_var), \n",
    "                     data_grid_roll(DS,climat_or_transect, month_f, S_var)]\n",
    "    temperature_noflat=[data_grid_roll(DS,climat_or_transect, month_i, T_var), \n",
    "                        data_grid_roll(DS,climat_or_transect, month_i, T_var), \n",
    "                        data_grid_roll(DS,climat_or_transect, month_f, T_var)]\n",
    "\n",
    "    salinity=[data_grid_roll(DS,climat_or_transect, month_i, S_var).flatten(), data_grid_roll(DS,climat_or_transect,month_i, S_var).flatten(), data_grid_roll(DS,climat_or_transect, month_f, S_var).flatten()]\n",
    "    temperature=[data_grid_roll(DS,climat_or_transect, month_i, T_var).flatten(), data_grid_roll(DS,climat_or_transect, month_i, T_var).flatten(), data_grid_roll(DS,climat_or_transect, month_f, T_var).flatten()]\n",
    "    salinity_surf=[np.nanmean(data_grid_roll(DS,climat_or_transect, month_i, S_var)[:10, :] , axis=0), np.nanmean(data_grid_roll(DS,climat_or_transect, month_i, S_var)[:10, :] , axis=0), np.nanmean(data_grid_roll(DS,climat_or_transect, month_f, S_var)[:10, :] , axis=0)]\n",
    "    temperature_surf=[np.nanmean(data_grid_roll(DS,climat_or_transect, month_i, T_var)[:10, :] , axis=0), np.nanmean(data_grid_roll(DS,climat_or_transect, month_i, T_var)[:10, :] , axis=0), np.nanmean(data_grid_roll(DS,climat_or_transect, month_f, T_var)[:10, :] , axis=0)]\n",
    "\n",
    "   \n",
    "\n",
    "    ## compute transformation      \n",
    "    ts_trans = wmt.mk_ts_trans_ds(dS, dT, S_range, T_range, t_arr)\n",
    "    #cal area\n",
    "    ts_trans = wmt.calc_ts_area(salinity, temperature,salinity_noflat,temperature_noflat,   ts_trans, dx, dy,open_or_close).fillna(0)\n",
    "    # calc transformation\n",
    "    ts_trans = wmt.ts_trans_cdiff(ts_trans,  dt)\n",
    "\n",
    "    # print('done')\n",
    "\n",
    "    if S_var=='abs_salinity':\n",
    "\n",
    "        ## for diahaline thermal fluxes::\n",
    "        ## calc surface fluxes transf\n",
    "\n",
    "        path='/home/jupyter-estelfont/scratch/estel/datasets/ERA5/L0/climatology/'\n",
    "        files= [f for f in os.listdir(path) if f.endswith('.nc')]\n",
    "        files=['/home/jupyter-estelfont/scratch/estel/datasets/ERA5/L0/climatology/'+files[i] for i in range(8)]\n",
    "        df_era= xr.open_mfdataset(files)\n",
    "        # ERA5=era_to_PWP(df_era\n",
    "\n",
    "        era5_dset=df_era.sel(time=slice('2015', '2015'), latitude=24, longitude=59)\n",
    "\n",
    "        era5_dset=era5_dset.resample(time='15d').mean()\n",
    "        era5_dset = era5_dset.interp(time=ts_trans.time_mid)\n",
    "        qnet = (era5_dset.msshf + era5_dset.mslhf + era5_dset.msnlwrf + era5_dset.msnswrf)\n",
    "        fw = (era5_dset.mer/1000 + era5_dset.mtpr/1000)\n",
    "\n",
    "        # Calculate the air-sea flux transformation\n",
    "        ts_trans = wmt.calc_surf_trans(\n",
    "            ts_trans, qnet, fw, temperature_surf, salinity_surf, \n",
    "            era5_dset.longitude, \n",
    "            era5_dset.latitude,\n",
    "            )\n",
    "\n",
    "        ## calc residual (total - ariseafluxes)\n",
    "\n",
    "        ts_trans['dvol_F'] = ts_trans.dvol_G.fillna(0) - ts_trans.dvol_E.fillna(0)\n",
    "        ts_trans['dvol_F'] = ts_trans.dvol_F.where(~np.isnan(ts_trans['dvol_F']), 0)\n",
    "\n",
    "        ts_trans = wmt.calc_osanp_F(ts_trans, dt)\n",
    "\n",
    "        ts_trans['dvol_E']=ts_trans.dvol_E.where(ts_trans.dvol_E!=0)\n",
    "        ts_trans['E_s']=ts_trans.E_s.where(ts_trans.E_s!=0)\n",
    "        ts_trans['E_t']=ts_trans.E_t.where(ts_trans.E_t!=0)\n",
    "\n",
    "\n",
    "        ts_trans['dvol_F']=ts_trans.dvol_F.where(ts_trans.dvol_F!=0)\n",
    "        ts_trans['F_s']=ts_trans.F_s.where(ts_trans.F_s!=0)\n",
    "        ts_trans['F_t']=ts_trans.F_t.where(ts_trans.F_t!=0)\n",
    "\n",
    "\n",
    "    ts_trans['dvol_G']=ts_trans.dvol_G.where(ts_trans.dvol_G!=0)\n",
    "    ts_trans['G_s']=ts_trans.G_s.where(ts_trans.G_s!=0)\n",
    "    ts_trans['G_t']=ts_trans.G_t.where(ts_trans.G_t!=0)\n",
    "\n",
    "    ts_trans['epsilon']=ts_trans.epsilon.where(ts_trans.epsilon!=0)\n",
    "    \n",
    "    # if month_i==38:\n",
    "    if month_i==5:\n",
    "    # if month_i==19:\n",
    "        ts_trans_all=ts_trans.copy()\n",
    "    elif month_i>5:\n",
    "        ts_trans_all=xr.merge([ts_trans_all, ts_trans])"
   ]
  },
  {
   "cell_type": "code",
   "execution_count": 8,
   "id": "3b4bf332-0f4a-43b7-b64f-ec5238f6ae48",
   "metadata": {},
   "outputs": [],
   "source": [
    "# ts_trans_all.to_netcdf('/home/jupyter-estelfont/scratch/estel/datasets/3_MW_budget_data/data/out_WMT/WMT_sg079_step_1transect_TS.nc')"
   ]
  },
  {
   "cell_type": "markdown",
   "id": "50acc7f9-381f-4201-99cd-c16c606358ec",
   "metadata": {},
   "source": [
    "### Figure S2"
   ]
  },
  {
   "cell_type": "code",
   "execution_count": 9,
   "id": "51d30f46-89db-4356-86ad-228566d614e3",
   "metadata": {},
   "outputs": [
    {
     "data": {
      "image/png": "[encoded data removed]",
      "text/plain": [
       "<Figure size 600x700 with 1 Axes>"
      ]
     },
     "metadata": {},
     "output_type": "display_data"
    }
   ],
   "source": [
    "glider_TS=xr.open_dataset('/home/jupyter-estelfont/scratch/estel/datasets/3_MW_budget_data/data/out_WMT/WMT_sg079_step_1transect_TS.nc')\n",
    "flagged_TS_buoyancyflux = glider_TS.dvol_E.where( glider_TS.dvol_E!=0, np.nan).sum('time_mid').where(glider_TS.dvol_E.where( glider_TS.dvol_E!=0, np.nan).sum('time_mid')!=0, np.nan)\n",
    "\n",
    "mask = ~np.isnan(flagged_TS_buoyancyflux)\n",
    "\n",
    "T, S = xr.broadcast(flagged_TS_buoyancyflux['T_bini'], flagged_TS_buoyancyflux['S_bini'])\n",
    "Tbini_notnan = T.where(mask, drop=True).values.flatten()\n",
    "Sbini_notnan = S.where(mask, drop=True).values.flatten()\n",
    "\n",
    "sigmas_=gsw.sigma0(Sbini_notnan, Tbini_notnan)\n",
    "spices_=gsw.spiciness0(Sbini_notnan, Tbini_notnan)\n",
    "\n",
    "\n",
    "plt.figure(figsize=(6,7))\n",
    "plt.scatter(spices_, sigmas_, marker='x', c='blue', s=50, label='Air-Sea Fluxes')\n",
    "plt.ylim(26, 23)\n",
    "plt.legend()\n",
    "plt.plot([4.3,4.3], [25.5,24.75], c='k', ls='--')\n",
    "plt.plot([6.3,6.3], [25.5,24.75], c='k', ls='--')\n",
    "plt.plot([6.3,4.3], [25.5,25.5], c='k', ls='--')\n",
    "plt.plot([6.3,4.3], [24.75,24.75], c='k', ls='--')\n",
    "\n",
    "plt.plot([6.3,4.3], [25,25], c='red', ls=':', lw=3)\n",
    "plt.plot([6.3,4.3], [25.25,25.25], c='red', ls=':', lw=3)\n",
    "plt.text(4.5, 25.125, 'Mode Water', va='center', c='red')\n",
    "\n",
    "plt.ylabel('Potential Density (kg m$^{-3}$)')\n",
    "plt.xlabel('Spice (kg m$^{-3}$)')\n",
    "\n",
    "plt.grid( c='silver', alpha=.5)"
   ]
  }
 ],
 "metadata": {
  "kernelspec": {
   "display_name": "Python 3 (ipykernel)",
   "language": "python",
   "name": "python3"
  },
  "language_info": {
   "codemirror_mode": {
    "name": "ipython",
    "version": 3
   },
   "file_extension": ".py",
   "mimetype": "text/x-python",
   "name": "python",
   "nbconvert_exporter": "python",
   "pygments_lexer": "ipython3",
   "version": "3.12.3"
  }
 },
 "nbformat": 4,
 "nbformat_minor": 5
}
